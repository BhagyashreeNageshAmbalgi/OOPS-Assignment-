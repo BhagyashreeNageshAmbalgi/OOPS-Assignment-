{
  "nbformat": 4,
  "nbformat_minor": 0,
  "metadata": {
    "colab": {
      "provenance": []
    },
    "kernelspec": {
      "name": "python3",
      "display_name": "Python 3"
    },
    "language_info": {
      "name": "python"
    }
  },
  "cells": [
    {
      "cell_type": "markdown",
      "source": [
        "Q1)  What is Object-Oriented Programming (OOP)?\n",
        "\n",
        "Ans: Object-Oriented Programming (OOP) is a programming paradigm that revolves around the concept of objects and classes. It's a way of designing and organizing code that simulates real-world objects and systems.\n",
        "\n",
        "Q2) What is a class in OOP?\n",
        "\n",
        "Ans: in Object-Oriented Programming (OOP), a class is a blueprint or template that defines the properties and behavior of an object. It's a fundamental concept that allows you to create objects that share similar characteristics and behaviors.\n",
        "\n",
        "Q3) What is an object in OOP?\n",
        "\n",
        "Ans: in Object-Oriented Programming (OOP), an object is an instance of a class. It represents a real-world entity or concept and has its own set of attributes (data) and methods (functions).\n",
        "\n",
        "Q4) What is the difference between abstraction and encapsulation?\n",
        "\n",
        "Ans: Key differences\n",
        "1. Focus: Abstraction focuses on exposing a simple interface, while encapsulation focuses on bundling data and behavior.\n",
        "2. Purpose: Abstraction aims to simplify complexity, while encapsulation aims to protect data and promote code organization.\n",
        "3. Scope: Abstraction is more concerned with the external interface, while encapsulation is more concerned with the internal implementation.\n",
        "\n",
        "\n",
        "Q5) What are dunder methods in Python?\n",
        "\n",
        "Ans: Dunder methods, short for \"double underscore\" methods, are special methods in Python that are surrounded by double underscores (__) on either side of the method name. These methods are also known as magic methods or special methods.\n",
        "\n",
        "Q6)  Explain the concept of inheritance in OOP?\n",
        "\n",
        "Ans:Inheritance is a fundamental concept in Object-Oriented Programming (OOP) that allows one class to inherit the properties and behavior of another class. The inheriting class is called the subclass or derived class, while the class being inherited from is called the superclass or base class.\n",
        "\n",
        "Q7)  What is polymorphism in OOP?\n",
        "\n",
        "Ans: Polymorphism is a fundamental concept in Object-Oriented Programming (OOP) that allows objects of different classes to be treated as objects of a common superclass. This enables you to write code that can work with objects of different classes without knowing their specific class type.\n",
        "\n",
        "Q8)  How is encapsulation achieved in Python?\n",
        "\n",
        "Ans: Encapsulation in Python\n",
        "Encapsulation is achieved in Python through the use of classes and objects. Python provides several ways to encapsulate data and behavior:\n",
        "\n",
        "1. Public attributes and methods\n",
        "By default, attributes and methods in Python are public, meaning they can be accessed directly from outside the class.\n",
        "\n",
        "2. Private attributes and methods\n",
        "Python uses a naming convention to indicate that an attribute or method is intended to be private. Private attributes and methods are prefixed with a double underscore (__).\n",
        "\n",
        "Q9)  What is a constructor in Python?\n",
        "\n",
        "Ans: A constructor in Python is a special method that is automatically called when an object of a class is created. It is used to initialize the attributes of the class.\n",
        "\n",
        "Q10)  What are class and static methods in Python?\n",
        "\n",
        "Ans: Class and Static Methods in Python\n",
        "Python provides three types of methods in a class: instance methods, class methods, and static methods.\n",
        "\n",
        "Class Methods\n",
        "- Bound to the class: Class methods are bound to the class rather than an instance of the class.\n",
        "- Decorator: Class methods are defined using the @classmethod decorator.\n",
        "- First argument: Class methods take the class as the first argument, which is conventionally named cls.\n",
        "- Access to class attributes: Class methods have access to class attributes and can modify them.\n",
        "\n",
        "Static Methods\n",
        "- Bound to the class: Static methods are also bound to the class rather than an instance of the class.\n",
        "- Decorator: Static methods are defined using the @staticmethod decorator.\n",
        "- No implicit first argument: Static methods do not take any implicit first argument (like self or cls).\n",
        "- No access to class or instance attributes: Static methods do not have access to class or instance attributes.\n",
        "\n",
        "Q11)  What is method overloading in Python?\n",
        "\n",
        "Ans: Method Overloading in Python\n",
        "Method overloading is a feature in some programming languages that allows multiple methods with the same name to be defined, as long as they have different parameter lists. However, Python does not support method overloading in the classical sense.\n",
        "\n",
        "Q12)  What is method overriding in OOP?\n",
        "\n",
        "Ans: Method Overriding in OOP\n",
        "Method overriding is a feature of object-oriented programming (OOP) that allows a subclass to provide a different implementation of a method that is already defined in its superclass.\n",
        "\n",
        "Q13)  What is a property decorator in Python?\n",
        "\n",
        "Ans: Property Decorator in Python\n",
        "The property decorator in Python is a way to implement getter, setter, and deleter methods for attributes of a class. It allows you to control access to attributes and perform actions when an attribute is accessed, modified, or deleted.\n",
        "\n",
        "Q14)  Why is polymorphism important in OOP?\n",
        "\n",
        "Ans: Importance of Polymorphism in OOP\n",
        "Polymorphism is a fundamental concept in Object-Oriented Programming (OOP) that allows objects of different classes to be treated as objects of a common superclass. This enables you to write more flexible and generic code that can work with objects of different classes.\n",
        "\n",
        "Q15)  What is an abstract class in Python?\n",
        "\n",
        "Ans: Abstract Class in Python\n",
        "An abstract class in Python is a class that cannot be instantiated on its own and is designed to be inherited by other classes. Abstract classes are used to define a blueprint for other classes to follow, and they can include both abstract methods (methods without implementation) and concrete methods (methods with implementation).\n",
        "\n",
        "Q16)  What are the advantages of OOP?\n",
        "\n",
        "Ans: Advantages of Object-Oriented Programming (OOP)\n",
        "Object-Oriented Programming (OOP) offers several advantages that make it a popular and powerful programming paradigm. Some of the key advantages of OOP include:\n",
        "\n",
        "1. Modularity\n",
        "- OOP allows you to break down a large program into smaller, independent modules (classes and objects) that can be developed and maintained separately.\n",
        "- This modularity makes it easier to manage complex systems and reduce the risk of errors.\n",
        "\n",
        "2. Reusability\n",
        "- OOP enables code reuse through inheritance and polymorphism, which allows you to write code that can be used in multiple contexts.\n",
        "- This reusability saves time and effort, as you don't need to write the same code multiple times.\n",
        "\n",
        "3. Easier Maintenance\n",
        "- OOP's modularity and encapsulation make it easier to modify or extend existing code without affecting other parts of the program.\n",
        "- This reduces the risk of introducing bugs or breaking existing functionality.\n",
        "\n",
        "4. Improved Readability\n",
        "- OOP's use of classes, objects, and methods makes the code more readable and self-explanatory.\n",
        "- This improves the understandability of the code, making it easier for developers to work with and maintain.\n",
        "\n",
        "Q17) What is the difference between a class variable and an instance variable?\n",
        "\n",
        "Ans: Class Variables vs Instance Variables\n",
        "In object-oriented programming, variables can be defined at the class level or the instance level. Understanding the difference between class variables and instance variables is crucial for designing and implementing classes effectively.\n",
        "\n",
        "Class Variables\n",
        "- Shared among all instances: Class variables are shared among all instances of a class.\n",
        "- Defined at the class level: Class variables are defined at the class level, outside of any method.\n",
        "- Accessed using the class name: Class variables can be accessed using the class name or an instance of the class.\n",
        "\n",
        "Instance Variables\n",
        "- Unique to each instance: Instance variables are unique to each instance of a class.\n",
        "- Defined at the instance level: Instance variables are defined at the instance level, typically inside the __init__ method.\n",
        "- Accessed using the instance name: Instance variables are accessed using the instance name.\n",
        "\n",
        "Q18)  What is multiple inheritance in Python?\n",
        "\n",
        "Ans: Multiple Inheritance in Python\n",
        "Multiple inheritance is a feature of object-oriented programming (OOP) that allows a class to inherit properties and behavior from multiple parent classes. In Python, a class can inherit from multiple parent classes by listing them in the class definition\n",
        "\n",
        "Q19)  Explain the purpose of ‘’__str__’ and ‘__repr__’ ‘ methods in Python?\n",
        "\n",
        "Ans: __str__ and __repr__ Methods in Python\n",
        "In Python, the __str__ and __repr__ methods are special methods that can be defined in a class to provide a string representation of an object.\n",
        "\n",
        "__str__ Method\n",
        "- Purpose: The __str__ method returns a string that is intended to be human-readable and provides a concise summary of the object's state.\n",
        "- Usage: The __str__ method is called when the str() function is used on an object, or when the object is used in a string context (e.g., print() function).\n",
        "\n",
        "__repr__ Method\n",
        "- Purpose: The __repr__ method returns a string that is intended to be a more formal representation of the object, ideally a valid Python expression that could be used to recreate the object.\n",
        "- Usage: The __repr__ method is called when the repr() function is used on an object, or when the object is represented in a debugging context (e.g., in a debugger or when using the !r format specifier).\n",
        "\n",
        "Q20)  What is the significance of the ‘super()’ function in Python?\n",
        "\n",
        "Ans: super() Function in Python\n",
        "The super() function in Python is used to access methods and properties of a parent class (also known as a superclass) from a child class. It allows you to override methods in the parent class while still calling the original method.\n",
        "\n",
        "Q21)  What is the significance of the __del__ method in Python?\n",
        "\n",
        "Ans: __del__ Method in Python\n",
        "The __del__ method in Python is a special method that is called when an object is about to be destroyed. It is also known as the destructor method.\n",
        "\n",
        "Q22)  What is the difference between @staticmethod and @classmethod in Python?\n",
        "\n",
        "Ans: @staticmethod vs @classmethod in Python\n",
        "In Python, @staticmethod and @classmethod are two types of decorators that can be used to define methods in a class. While both decorators allow you to define methods that can be called without creating an instance of the class, there are key differences between them.\n",
        "\n",
        "@staticmethod\n",
        "- No access to class or instance: A static method has no access to the class or instance, and it behaves like a regular function.\n",
        "- No self or cls parameter: A static method does not take self or cls as a parameter.\n",
        "- Use cases: Static methods are useful when you want to group related functionality together, but don't need access to the class or instance.\n",
        "\n",
        "@classmethod\n",
        "- Access to class: A class method has access to the class, and it takes cls as a parameter.\n",
        "- Can create instances: A class method can be used to create instances of the class.\n",
        "- Use cases: Class methods are useful when you want to define alternative constructors or methods that operate on the class level.\n",
        "\n",
        "Q23)  How does polymorphism work in Python with inheritance?\n",
        "\n",
        "Ans: Polymorphism with Inheritance in Python\n",
        "Polymorphism is a fundamental concept in object-oriented programming (OOP) that allows objects of different classes to be treated as objects of a common superclass. In Python, polymorphism works seamlessly with inheritance, enabling you to write flexible and reusable code.\n",
        "\n",
        "How Polymorphism Works\n",
        "1. Method overriding: When a subclass inherits from a superclass, it can override the methods of the superclass. This allows the subclass to provide its own implementation of the method, which can be different from the superclass's implementation.\n",
        "2. Method resolution: When a method is called on an object, Python resolves the method call by looking up the method in the object's class and its superclasses. This process is known as method resolution.\n",
        "\n",
        "Q24)  What is method chaining in Python OOP?\n",
        "\n",
        "Ans: Method Chaining in Python OOP\n",
        "Method chaining is a programming technique in Python's object-oriented programming (OOP) that allows you to call multiple methods on an object in a single statement. Each method returns the object itself, enabling the chaining of method calls.\n",
        "\n",
        "Q25) What is the purpose of the __call__ method in Python?\n",
        "\n",
        "Ans: __call__ Method in Python\n",
        "The __call__ method in Python is a special method that allows an instance of a class to be called as a function. This method is invoked when an instance of a class is used as a callable.\n",
        "\n",
        "Purpose\n",
        "- Make instances callable: The __call__ method enables instances of a class to be used as callables, allowing them to behave like functions.\n",
        "- Implement function-like behavior: By implementing the __call__ method, you can define function-like behavior for instances of a class.\n",
        "\n",
        "\n",
        "#PRACTICAL QUESTIONS\n",
        "\n",
        "Q1)  Create a parent class Animal with a method speak() that prints a generic message. Create a child class Dog\n",
        "that overrides the speak() method to print \"Bark!\".\n",
        "\n",
        "\n"
      ],
      "metadata": {
        "id": "v3D3Vpu75s2C"
      }
    },
    {
      "cell_type": "code",
      "source": [
        "class Animal:\n",
        "    def speak(self):\n",
        "        print(\"The animal makes a sound.\")\n",
        "\n",
        "class Dog(Animal):\n",
        "    def speak(self):\n",
        "        print(\"Bark!\")\n",
        "\n",
        "# Create instances\n",
        "animal = Animal()\n",
        "dog = Dog()\n",
        "\n",
        "# Call the speak() method\n",
        "animal.speak()"
      ],
      "metadata": {
        "colab": {
          "base_uri": "https://localhost:8080/"
        },
        "id": "6m20tyFd3pRq",
        "outputId": "6a6c1109-f4ff-49af-a7fe-8fa654636bf6"
      },
      "execution_count": 1,
      "outputs": [
        {
          "output_type": "stream",
          "name": "stdout",
          "text": [
            "The animal makes a sound.\n"
          ]
        }
      ]
    },
    {
      "cell_type": "markdown",
      "source": [
        "Q2) Write a program to create an abstract class Shape with a method area(). Derive classes Circle and Rectangle\n",
        "from it and implement the area() method in both"
      ],
      "metadata": {
        "id": "WvMVJzhF4jja"
      }
    },
    {
      "cell_type": "code",
      "source": [
        "class Shape(ABC):\n",
        "    @abstractmethod\n",
        "    def area(self):\n",
        "        pass\n",
        "\n",
        "class Circle(Shape):\n",
        "    def __init__(self, radius):\n",
        "        self.radius = radius\n",
        "\n",
        "    def area(self):\n",
        "        return math.pi * self.radius ** 2\n",
        "\n",
        "class Rectangle(Shape):\n",
        "    def __init__(self, width, height):\n",
        "        self.width = width\n",
        "        self.height = height\n",
        "\n",
        "    def area(self):\n",
        "        return self.width * self.height"
      ],
      "metadata": {
        "id": "-m-4smSK5rKx"
      },
      "execution_count": null,
      "outputs": []
    },
    {
      "cell_type": "markdown",
      "source": [
        "Q3)  Implement a multi-level inheritance scenario where a class Vehicle has an attribute type. Derive a class Car\n",
        "and further derive a class ElectricCar that adds a battery attribute."
      ],
      "metadata": {
        "id": "mJOmtA0656en"
      }
    },
    {
      "cell_type": "code",
      "source": [
        "class Vehicle:\n",
        "    def __init__(self, vehicle_type):\n",
        "        self.type = vehicle_type\n",
        "\n",
        "    def display_type(self):\n",
        "        print(f\"Vehicle type: {self.type}\")\n",
        "\n",
        "class Car(Vehicle):\n",
        "    def __init__(self, vehicle_type, brand, model):\n",
        "        super().__init__(vehicle_type)\n",
        "        self.brand = brand\n",
        "        self.model = model\n",
        "\n",
        "    def display_details(self):\n",
        "        self.display_type()\n",
        "        print(f\"Brand: {self.brand}\")\n",
        "        print(f\"Model: {self.model}\")\n",
        "\n",
        "class ElectricCar(Car):\n",
        "    def __init__(self, vehicle_type, brand, model, battery_capacity):\n",
        "        super().__init__(vehicle_type, brand, model)\n",
        "        self.battery_capacity = battery_capacity\n",
        "\n",
        "    def display_battery_info(self):\n",
        "        self.display_details()\n",
        "        print(f\"Battery capacity: {self.battery_capacity} kWh\")"
      ],
      "metadata": {
        "id": "N9lhONOE6HUK"
      },
      "execution_count": 3,
      "outputs": []
    },
    {
      "cell_type": "markdown",
      "source": [
        "Q4)  Demonstrate polymorphism by creating a base class Bird with a method fly(). Create two derived classes\n",
        "Sparrow and Penguin that override the fly() method."
      ],
      "metadata": {
        "id": "Qvd567p46NZ7"
      }
    },
    {
      "cell_type": "code",
      "source": [
        "class Bird:\n",
        "    def fly(self):\n",
        "        print(\"The bird flies.\")\n",
        "\n",
        "class Sparrow(Bird):\n",
        "    def fly(self):\n",
        "        print(\"The sparrow flies swiftly.\")\n",
        "\n",
        "class Penguin(Bird):\n",
        "    def fly(self):\n",
        "        print(\"Penguins cannot fly.\")\n",
        "\n",
        "        # Create instances\n",
        "sparrow = Sparrow()\n",
        "penguin = Penguin()\n",
        "\n",
        "# Call the fly() method\n",
        "sparrow.fly()"
      ],
      "metadata": {
        "colab": {
          "base_uri": "https://localhost:8080/"
        },
        "id": "r2WT1VOi6eCZ",
        "outputId": "0580fc4a-22bc-4589-db86-783dd3756302"
      },
      "execution_count": 5,
      "outputs": [
        {
          "output_type": "stream",
          "name": "stdout",
          "text": [
            "The sparrow flies swiftly.\n"
          ]
        }
      ]
    },
    {
      "cell_type": "markdown",
      "source": [
        " Q5) Write a program to demonstrate encapsulation by creating a class BankAccount with private attributes\n",
        "balance and methods to deposit, withdraw, and check balance"
      ],
      "metadata": {
        "id": "pl0W5GLM64Pg"
      }
    },
    {
      "cell_type": "code",
      "source": [
        "class BankAccount:\n",
        "    def __init__(self, initial_balance=0):\n",
        "        self.__balance = initial_balance\n",
        "\n",
        "    def deposit(self, amount):\n",
        "        if amount > 0:\n",
        "            self.__balance += amount\n",
        "            print(f\"Deposited ${amount:.2f}. New balance: ${self.__balance:.2f}\")\n",
        "        else:\n",
        "            print(\"Invalid deposit amount.\")\n",
        "\n",
        "    def withdraw(self, amount):\n",
        "        if 0 < amount <= self.__balance:\n",
        "            self.__balance -= amount\n",
        "            print(f\"Withdrew ${amount:.2f}. New balance: ${self.__balance:.2f}\")\n",
        "        elif amount <= 0:\n",
        "            print(\"Invalid withdrawal amount.\")\n",
        "        else:\n",
        "            print(\"Insufficient funds.\")\n",
        "\n",
        "    def check_balance(self):\n",
        "        print(f\"Current balance: ${self.__balance:.2f}\")\n",
        "\n",
        "# Create an instance of BankAccount\n",
        "account = BankAccount(1000)\n",
        "\n",
        "# Deposit, withdraw, and check balance\n",
        "account.check_balance()\n",
        "account.deposit(500)\n",
        "account.withdraw(200)\n",
        "account.check_balance()"
      ],
      "metadata": {
        "colab": {
          "base_uri": "https://localhost:8080/"
        },
        "id": "dC4gyJ3B68H4",
        "outputId": "2d85e7e5-8325-42fe-d0dc-f7eeeebd164d"
      },
      "execution_count": 6,
      "outputs": [
        {
          "output_type": "stream",
          "name": "stdout",
          "text": [
            "Current balance: $1000.00\n",
            "Deposited $500.00. New balance: $1500.00\n",
            "Withdrew $200.00. New balance: $1300.00\n",
            "Current balance: $1300.00\n"
          ]
        }
      ]
    },
    {
      "cell_type": "markdown",
      "source": [
        "Q6) . Demonstrate runtime polymorphism using a method play() in a base class Instrument. Derive classes Guitar\n",
        "and Piano that implement their own version of play()."
      ],
      "metadata": {
        "id": "dGg35FpJ8sfe"
      }
    },
    {
      "cell_type": "code",
      "source": [
        "class Instrument:\n",
        "    def play(self):\n",
        "        print(\"The instrument is playing.\")\n",
        "\n",
        "class Guitar(Instrument):\n",
        "    def play(self):\n",
        "        print(\"The guitar is strumming.\")\n",
        "\n",
        "class Piano(Instrument):\n",
        "    def play(self):\n",
        "        print(\"The piano is being played.\")\n",
        "\n",
        "# Create instances\n",
        "guitar = Guitar()\n",
        "piano = Piano()\n",
        "\n",
        "# Call the play() method\n",
        "guitar.play()  # Output: The guitar is strumming.\n",
        "piano.play()  # Output: The piano is being played.\n",
        "\n",
        "# Demonstrate runtime polymorphism\n",
        "def play_instrument(instrument):\n",
        "    instrument.play()\n",
        "\n",
        "play_instrument(guitar)  # Output: The guitar is strumming.\n",
        "play_instrument(piano)  # Output: The piano is being played.\n",
        "\n",
        "# Using a list of instruments\n",
        "instruments = [Guitar(), Piano(), Guitar()]\n",
        "for instrument in instruments:\n",
        "    instrument.play()\n",
        "# Output:\n",
        "# The guitar is strumming.\n",
        "# The piano is being played.\n",
        "# The guitar is strumming.\n"
      ],
      "metadata": {
        "colab": {
          "base_uri": "https://localhost:8080/"
        },
        "id": "WUW9plbp8tBr",
        "outputId": "19d7811b-6746-4486-c71a-d34dbb7dabb9"
      },
      "execution_count": 7,
      "outputs": [
        {
          "output_type": "stream",
          "name": "stdout",
          "text": [
            "The guitar is strumming.\n",
            "The piano is being played.\n",
            "The guitar is strumming.\n",
            "The piano is being played.\n",
            "The guitar is strumming.\n",
            "The piano is being played.\n",
            "The guitar is strumming.\n"
          ]
        }
      ]
    },
    {
      "cell_type": "markdown",
      "source": [
        "Q7)  Create a class MathOperations with a class method add_numbers() to add two numbers and a static\n",
        "method subtract_numbers() to subtract two numbers."
      ],
      "metadata": {
        "id": "Ayt5ZMqU9Eov"
      }
    },
    {
      "cell_type": "code",
      "source": [
        "class MathOperations:\n",
        "    @classmethod\n",
        "    def add_numbers(cls, num1, num2):\n",
        "        return num1 + num2\n",
        "\n",
        "    @staticmethod\n",
        "    def subtract_numbers(num1, num2):\n",
        "        return num1 - num2\n",
        "\n",
        "# Call the class method\n",
        "result_add = MathOperations.add_numbers(10, 5)\n",
        "print(f\"Addition result: {result_add}\")  # Output: Addition result: 15\n",
        "\n",
        "# Call the static method\n",
        "result_subtract = MathOperations.subtract_numbers(10, 5)\n",
        "print(f\"Subtraction result: {result_subtract}\")  # Output: Subtraction result: 5"
      ],
      "metadata": {
        "colab": {
          "base_uri": "https://localhost:8080/"
        },
        "id": "hi2ufdNv9QJm",
        "outputId": "b72852c0-f752-430f-8071-2416e2cea88d"
      },
      "execution_count": 8,
      "outputs": [
        {
          "output_type": "stream",
          "name": "stdout",
          "text": [
            "Addition result: 15\n",
            "Subtraction result: 5\n"
          ]
        }
      ]
    },
    {
      "cell_type": "markdown",
      "source": [
        "Q8) . Implement a class Person with a class method to count the total number of persons created"
      ],
      "metadata": {
        "id": "1qGFMQX29Sva"
      }
    },
    {
      "cell_type": "code",
      "source": [
        "class Person:\n",
        "    total_persons = 0\n",
        "\n",
        "    def __init__(self, name, age):\n",
        "        self.name = name\n",
        "        self.age = age\n",
        "        Person.total_persons += 1\n",
        "\n",
        "    @classmethod\n",
        "    def count_persons(cls):\n",
        "        return cls.total_persons\n",
        "\n",
        "# Create instances of Person\n",
        "person1 = Person(\"John\", 30)\n",
        "person2 = Person(\"Alice\", 25)\n",
        "person3 = Person(\"Bob\", 40)\n",
        "\n",
        "# Get the total number of persons\n",
        "total_persons = Person.count_persons()\n",
        "print(f\"Total number of persons: {total_persons}\")  # Output: Total number of persons: 3"
      ],
      "metadata": {
        "colab": {
          "base_uri": "https://localhost:8080/"
        },
        "id": "H1gNV1mm9aAP",
        "outputId": "e2ae9605-f169-4a7f-8434-6eed58c1f1fa"
      },
      "execution_count": 9,
      "outputs": [
        {
          "output_type": "stream",
          "name": "stdout",
          "text": [
            "Total number of persons: 3\n"
          ]
        }
      ]
    },
    {
      "cell_type": "markdown",
      "source": [
        "Q9)  Write a class Fraction with attributes numerator and denominator. Override the str method to display the\n",
        "fraction as \"numerator/denominator\""
      ],
      "metadata": {
        "id": "vfklXjEM9k1g"
      }
    },
    {
      "cell_type": "code",
      "source": [
        "class Fraction:\n",
        "    def __init__(self, numerator, denominator):\n",
        "        if denominator == 0:\n",
        "            raise ValueError(\"Denominator cannot be zero\")\n",
        "        self.numerator = numerator\n",
        "        self.denominator = denominator\n",
        "\n",
        "    def __str__(self):\n",
        "        return f\"{self.numerator}/{self.denominator}\"\n",
        "\n",
        "# Create instances of Fraction\n",
        "fraction1 = Fraction(1, 2)\n",
        "fraction2 = Fraction(3, 4)\n",
        "\n",
        "# Display the fractions\n",
        "print(fraction1)  # Output: 1/2\n",
        "print(fraction2)  # Output: 3/4\n"
      ],
      "metadata": {
        "colab": {
          "base_uri": "https://localhost:8080/"
        },
        "id": "BzdDcW9T9mv4",
        "outputId": "f3e39c54-6168-4197-a0c9-eb5fba568de9"
      },
      "execution_count": 10,
      "outputs": [
        {
          "output_type": "stream",
          "name": "stdout",
          "text": [
            "1/2\n",
            "3/4\n"
          ]
        }
      ]
    },
    {
      "cell_type": "markdown",
      "source": [
        "Q10)  Demonstrate operator overloading by creating a class Vector and overriding the add method to add two\n",
        "vectors."
      ],
      "metadata": {
        "id": "w4kYX9nd9rXA"
      }
    },
    {
      "cell_type": "code",
      "source": [
        "class Vector:\n",
        "    def __init__(self, x, y):\n",
        "        self.x = x\n",
        "        self.y = y\n",
        "\n",
        "    def __add__(self, other):\n",
        "        if isinstance(other, Vector):\n",
        "            return Vector(self.x + other.x, self.y + other.y)\n",
        "        else:\n",
        "            raise TypeError(\"Unsupported operand type for +\")\n",
        "\n",
        "    def __str__(self):\n",
        "        return f\"({self.x}, {self.y})\"\n",
        "\n",
        "# Create instances of Vector\n",
        "vector1 = Vector(2, 3)\n",
        "vector2 = Vector(4, 5)\n",
        "\n",
        "# Add vectors\n",
        "result = vector1 + vector2\n",
        "print(result)  # Output: (6, 8)"
      ],
      "metadata": {
        "colab": {
          "base_uri": "https://localhost:8080/"
        },
        "id": "b_2TC2q5996W",
        "outputId": "2f8091d5-5b7b-4e78-f6a9-0a73a4897412"
      },
      "execution_count": 11,
      "outputs": [
        {
          "output_type": "stream",
          "name": "stdout",
          "text": [
            "(6, 8)\n"
          ]
        }
      ]
    },
    {
      "cell_type": "markdown",
      "source": [
        "Q11)  Create a class Person with attributes name and age. Add a method greet() that prints \"Hello, my name is\n",
        "{name} and I am {age} years old.\n"
      ],
      "metadata": {
        "id": "bkckfZXe-Edn"
      }
    },
    {
      "cell_type": "code",
      "source": [
        "class Person:\n",
        "    def __init__(self, name, age):\n",
        "        self.name = name\n",
        "        self.age = age\n",
        "\n",
        "    def greet(self):\n",
        "        print(f\"Hello, my name is {self.name} and I am {self.age} years old.\")\n",
        "\n",
        "# Create an instance of Person\n",
        "person = Person(\"John\", 30)\n",
        "\n",
        "# Call the greet method\n",
        "person.greet()  # Output: Hello, my name is John and I am 30 years old."
      ],
      "metadata": {
        "colab": {
          "base_uri": "https://localhost:8080/"
        },
        "id": "V6bhytrK-NHS",
        "outputId": "b8e7b90e-f2d5-4d34-8f5c-d350af9e9d45"
      },
      "execution_count": 12,
      "outputs": [
        {
          "output_type": "stream",
          "name": "stdout",
          "text": [
            "Hello, my name is John and I am 30 years old.\n"
          ]
        }
      ]
    },
    {
      "cell_type": "markdown",
      "source": [
        "Q12)  Implement a class Student with attributes name and grades. Create a method average_grade() to compute\n",
        "the average of the grades."
      ],
      "metadata": {
        "id": "KrcJ5OIo-VLJ"
      }
    },
    {
      "cell_type": "code",
      "source": [
        "class Student:\n",
        "    def __init__(self, name, grades=None):\n",
        "        self.name = name\n",
        "        self.grades = grades if grades is not None else []\n",
        "\n",
        "    def average_grade(self):\n",
        "        if not self.grades:\n",
        "            return 0\n",
        "        return sum(self.grades) / len(self.grades)\n",
        "\n",
        "# Create an instance of Student\n",
        "student = Student(\"John\", [90, 85, 95, 92])\n",
        "\n",
        "# Calculate the average grade\n",
        "average = student.average_grade()\n",
        "print(f\"Average grade: {average:.2f}\")  # Output: Average grade: 90.50"
      ],
      "metadata": {
        "colab": {
          "base_uri": "https://localhost:8080/"
        },
        "id": "-rbvPL6Q-aja",
        "outputId": "f67355be-6fa4-4cec-893a-667db7635cc2"
      },
      "execution_count": 13,
      "outputs": [
        {
          "output_type": "stream",
          "name": "stdout",
          "text": [
            "Average grade: 90.50\n"
          ]
        }
      ]
    },
    {
      "cell_type": "markdown",
      "source": [
        "Q13)  Create a class Rectangle with methods set_dimensions() to set the dimensions and area() to calculate the\n",
        "area."
      ],
      "metadata": {
        "id": "MiYdUdQN-ie7"
      }
    },
    {
      "cell_type": "code",
      "source": [
        "class Rectangle:\n",
        "    def __init__(self, width=0, height=0):\n",
        "        self.width = width\n",
        "        self.height = height\n",
        "\n",
        "    def set_dimensions(self, width, height):\n",
        "        if width < 0 or height < 0:\n",
        "            raise ValueError(\"Width and height must be non-negative\")\n",
        "        self.width = width\n",
        "        self.height = height\n",
        "\n",
        "    def area(self):\n",
        "        return self.width * self.height\n",
        "\n",
        "# Create an instance of Rectangle\n",
        "rectangle = Rectangle()\n",
        "\n",
        "# Set dimensions\n",
        "rectangle.set_dimensions(5, 10)\n",
        "\n",
        "# Calculate area\n",
        "area = rectangle.area()\n",
        "print(f\"Area: {area}\")  # Output: Area: 50"
      ],
      "metadata": {
        "colab": {
          "base_uri": "https://localhost:8080/"
        },
        "id": "kZN9IgGv-nPd",
        "outputId": "ca2b2293-384a-4147-9a8d-e3a60c0d69b5"
      },
      "execution_count": 14,
      "outputs": [
        {
          "output_type": "stream",
          "name": "stdout",
          "text": [
            "Area: 50\n"
          ]
        }
      ]
    },
    {
      "cell_type": "markdown",
      "source": [
        "Q14)  Create a class Employee with a method calculate_salary() that computes the salary based on hours worked\n",
        "and hourly rate. Create a derived class Manager that adds a bonus to the salary."
      ],
      "metadata": {
        "id": "SM-4Jc1y-tnf"
      }
    },
    {
      "cell_type": "code",
      "source": [
        "class Employee:\n",
        "    def __init__(self, name, hourly_rate):\n",
        "        self.name = name\n",
        "        self.hourly_rate = hourly_rate\n",
        "        self.hours_worked = 0\n",
        "\n",
        "    def calculate_salary(self):\n",
        "        return self.hours_worked * self.hourly_rate\n",
        "\n",
        "    def log_hours(self, hours):\n",
        "        self.hours_worked += hours\n",
        "\n",
        "class Manager(Employee):\n",
        "    def __init__(self, name, hourly_rate, bonus):\n",
        "        super().__init__(name, hourly_rate)\n",
        "        self.bonus = bonus\n",
        "\n",
        "    def calculate_salary(self):\n",
        "        return super().calculate_salary() + self.bonus\n",
        "\n",
        "# Create an instance of Employee\n",
        "employee = Employee(\"John\", 20)\n",
        "employee.log_hours(40)\n",
        "print(f\"Employee salary: ${employee.calculate_salary()}\")  # Output: Employee salary: $800\n",
        "\n",
        "# Create an instance of Manager\n",
        "manager = Manager(\"Jane\", 30, 1000)\n",
        "manager.log_hours(40)\n",
        "print(f\"Manager salary: ${manager.calculate_salary()}\")  # Output: Manager salary: $2200"
      ],
      "metadata": {
        "colab": {
          "base_uri": "https://localhost:8080/"
        },
        "id": "v7E0elhI--eZ",
        "outputId": "3bc89cca-0024-45a3-c038-480843bcd1cb"
      },
      "execution_count": 16,
      "outputs": [
        {
          "output_type": "stream",
          "name": "stdout",
          "text": [
            "Employee salary: $800\n",
            "Manager salary: $2200\n"
          ]
        }
      ]
    },
    {
      "cell_type": "markdown",
      "source": [
        "Q15)  Create a class Product with attributes name, price, and quantity. Implement a method total_price() that\n",
        "calculates the total price of the product."
      ],
      "metadata": {
        "id": "2ZscaFaX_Esc"
      }
    },
    {
      "cell_type": "code",
      "source": [
        "class Product:\n",
        "    def __init__(self, name, price, quantity):\n",
        "        self.name = name\n",
        "        self.price = price\n",
        "        self.quantity = quantity\n",
        "\n",
        "    def total_price(self):\n",
        "        return self.price * self.quantity\n",
        "\n",
        "# Create an instance of Product\n",
        "product = Product(\"Laptop\", 1000, 5)\n",
        "\n",
        "# Calculate total price\n",
        "total = product.total_price()\n",
        "print(f\"Total price: ${total}\")  # Output: Total price: $5000"
      ],
      "metadata": {
        "colab": {
          "base_uri": "https://localhost:8080/"
        },
        "id": "u2ldPubS_LUW",
        "outputId": "9097adf9-ebc7-455d-9e32-679468ff2508"
      },
      "execution_count": 17,
      "outputs": [
        {
          "output_type": "stream",
          "name": "stdout",
          "text": [
            "Total price: $5000\n"
          ]
        }
      ]
    },
    {
      "cell_type": "markdown",
      "source": [
        "Q16)  Create a class Animal with an abstract method sound(). Create two derived classes Cow and Sheep that\n",
        "implement the sound() method"
      ],
      "metadata": {
        "id": "Wcf-o8ET_ZV3"
      }
    },
    {
      "cell_type": "code",
      "source": [
        "class Animal():\n",
        "    def __init__(self):\n",
        "        pass\n",
        "    def sound(self):\n",
        "        pass\n",
        "\n",
        "class Cow(Animal):\n",
        "    def sound(self):\n",
        "        return \"Moo\"\n",
        "\n",
        "class Sheep(Animal):\n",
        "    def sound(self):\n",
        "        return \"Baa\"\n",
        "\n",
        "# Create instances of Cow and Sheep\n",
        "cow = Cow()\n",
        "sheep = Sheep()\n",
        "\n",
        "# Make sounds\n",
        "print(f\"Cow says: {cow.sound()}\")  # Output: Cow says: Moo\n",
        "print(f\"Sheep says: {sheep.sound()}\")  # Output: Sheep says: Baa"
      ],
      "metadata": {
        "colab": {
          "base_uri": "https://localhost:8080/"
        },
        "id": "jNmXjya5_hI_",
        "outputId": "644c3a72-3175-4fec-9242-76c70cc45f8a"
      },
      "execution_count": 20,
      "outputs": [
        {
          "output_type": "stream",
          "name": "stdout",
          "text": [
            "Cow says: Moo\n",
            "Sheep says: Baa\n"
          ]
        }
      ]
    },
    {
      "cell_type": "markdown",
      "source": [
        "Q17)  Create a class Book with attributes title, author, and year_published. Add a method get_book_info() that\n",
        "returns a formatted string with the book's details"
      ],
      "metadata": {
        "id": "zNlRSK3c_zjZ"
      }
    },
    {
      "cell_type": "code",
      "source": [
        "class Book:\n",
        "    def __init__(self, title, author, year_published):\n",
        "        self.title = title\n",
        "        self.author = author\n",
        "        self.year_published = year_published\n",
        "\n",
        "    def get_book_info(self):\n",
        "        return f\"'{self.title}' by {self.author}, published in {self.year_published}\"\n",
        "\n",
        "# Create an instance of Book\n",
        "book = Book(\"To Kill a Mockingbird\", \"Harper Lee\", 1960)\n",
        "\n",
        "# Get book info\n",
        "book_info = book.get_book_info()\n",
        "print(book_info)  # Output: 'To Kill a Mockingbird' by Harper Lee, published in 1960"
      ],
      "metadata": {
        "colab": {
          "base_uri": "https://localhost:8080/"
        },
        "id": "2ctTY9gv_7lk",
        "outputId": "5b7cfc30-1e96-4fa1-dc64-008c52aea57d"
      },
      "execution_count": 21,
      "outputs": [
        {
          "output_type": "stream",
          "name": "stdout",
          "text": [
            "'To Kill a Mockingbird' by Harper Lee, published in 1960\n"
          ]
        }
      ]
    },
    {
      "cell_type": "markdown",
      "source": [
        "Q18)  Create a class House with attributes address and price. Create a derived class Mansion that adds an\n",
        "attribute number_of_rooms."
      ],
      "metadata": {
        "id": "gXTx_wUrAD-4"
      }
    },
    {
      "cell_type": "code",
      "source": [
        "class House:\n",
        "    def __init__(self, address, price):\n",
        "        self.address = address\n",
        "        self.price = price\n",
        "\n",
        "    def get_house_info(self):\n",
        "        return f\"Address: {self.address}, Price: ${self.price}\"\n",
        "\n",
        "class Mansion(House):\n",
        "    def __init__(self, address, price, number_of_rooms):\n",
        "        super().__init__(address, price)\n",
        "        self.number_of_rooms = number_of_rooms\n",
        "\n",
        "    def get_house_info(self):\n",
        "        return f\"{super().get_house_info()}, Number of rooms: {self.number_of_rooms}\"\n",
        "\n",
        "# Create an instance of House\n",
        "house = House(\"123 Main St\", 200000)\n",
        "print(house.get_house_info())  # Output: Address: 123 Main St, Price: $200000\n",
        "\n",
        "# Create an instance of Mansion\n",
        "mansion = Mansion(\"456 Estate Dr\", 1000000, 10)\n",
        "print(mansion.get_house_info())  # Output: Address: 456 Estate Dr, Price: $1000000, Number of rooms: 10\n"
      ],
      "metadata": {
        "colab": {
          "base_uri": "https://localhost:8080/"
        },
        "id": "fTIXAYgVAGv0",
        "outputId": "22893abf-1c35-4c39-d419-b989064267e0"
      },
      "execution_count": 22,
      "outputs": [
        {
          "output_type": "stream",
          "name": "stdout",
          "text": [
            "Address: 123 Main St, Price: $200000\n",
            "Address: 456 Estate Dr, Price: $1000000, Number of rooms: 10\n"
          ]
        }
      ]
    }
  ]
}